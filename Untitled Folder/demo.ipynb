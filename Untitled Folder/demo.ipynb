{
 "cells": [
  {
   "cell_type": "code",
   "execution_count": 1,
   "source": [
    "import numpy as np"
   ],
   "outputs": [],
   "metadata": {}
  }
 ],
 "metadata": {
  "language_info": {
   "name": "python",
   "version": "3.7.11",
   "mimetype": "text/x-python",
   "codemirror_mode": {
    "name": "ipython",
    "version": 3
   },
   "pygments_lexer": "ipython3",
   "nbconvert_exporter": "python",
   "file_extension": ".py"
  },
  "kernelspec": {
   "name": "python3",
   "display_name": "Python 3.7.11 64-bit ('Oneneuron': conda)"
  },
  "interpreter": {
   "hash": "644d38e9960f73403945394a66c3c8e6ba605557f7c9d4a8c9b7265d2539c37a"
  }
 },
 "nbformat": 4,
 "nbformat_minor": 5
}